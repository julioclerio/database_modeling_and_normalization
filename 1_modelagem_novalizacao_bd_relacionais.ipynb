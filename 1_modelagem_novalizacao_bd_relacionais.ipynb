{
  "nbformat": 4,
  "nbformat_minor": 0,
  "metadata": {
    "colab": {
      "provenance": [],
      "mount_file_id": "1O90nVQYqN4_PDMRIeQbNKaBivNNUZ_7P",
      "authorship_tag": "ABX9TyOrHqVZ96e+CWQ7/MPCePyO",
      "include_colab_link": true
    },
    "kernelspec": {
      "name": "python3",
      "display_name": "Python 3"
    },
    "language_info": {
      "name": "python"
    }
  },
  "cells": [
    {
      "cell_type": "markdown",
      "metadata": {
        "id": "view-in-github",
        "colab_type": "text"
      },
      "source": [
        "<a href=\"https://colab.research.google.com/github/julioclerio/database_modeling_and_normalization/blob/main/1_modelagem_novalizacao_bd_relacionais.ipynb\" target=\"_parent\"><img src=\"https://colab.research.google.com/assets/colab-badge.svg\" alt=\"Open In Colab\"/></a>"
      ]
    },
    {
      "cell_type": "markdown",
      "source": [
        "MODELO LÓGICO E CONCEITUAL\n",
        "\n",
        "\n",
        "<img src=\"https://raw.githubusercontent.com/julioclerio/database_modeling_and_normalization/main/logico_model_.png\" width=\"400\" alt=\"Modelo Lógico\">\n",
        "\n",
        "<img src=\"https://raw.githubusercontent.com/julioclerio/database_modeling_and_normalization/main/conceptual_model.png\" width=\"420\" alt=\"Modelo Lógico\">\n"
      ],
      "metadata": {
        "id": "o1hP9OGIhAvD"
      }
    },
    {
      "cell_type": "code",
      "execution_count": null,
      "metadata": {
        "colab": {
          "base_uri": "https://localhost:8080/"
        },
        "id": "JxoIdJNO0dPB",
        "outputId": "31198b6c-2c60-48d0-904f-627409129212"
      },
      "outputs": [
        {
          "output_type": "stream",
          "name": "stdout",
          "text": [
            "Collecting pymysql\n",
            "  Downloading PyMySQL-1.1.0-py3-none-any.whl (44 kB)\n",
            "\u001b[?25l     \u001b[90m━━━━━━━━━━━━━━━━━━━━━━━━━━━━━━━━━━━━━━━━\u001b[0m \u001b[32m0.0/44.8 kB\u001b[0m \u001b[31m?\u001b[0m eta \u001b[36m-:--:--\u001b[0m\r\u001b[2K     \u001b[90m━━━━━━━━━━━━━━━━━━━━━━━━━━━━━━━━━━━━━━━━\u001b[0m \u001b[32m44.8/44.8 kB\u001b[0m \u001b[31m1.2 MB/s\u001b[0m eta \u001b[36m0:00:00\u001b[0m\n",
            "\u001b[?25hInstalling collected packages: pymysql\n",
            "Successfully installed pymysql-1.1.0\n"
          ]
        }
      ],
      "source": [
        "!pip install pymysql"
      ]
    },
    {
      "cell_type": "code",
      "source": [
        "# IMPORTAÇÃO BIBLIOTECA\n",
        "import pymysql"
      ],
      "metadata": {
        "id": "ua9tLP6L0yDg"
      },
      "execution_count": null,
      "outputs": []
    },
    {
      "cell_type": "code",
      "source": [
        "# CRIAR CONEXÃO AO MYSQL - AWS\n",
        "\n",
        "try:\n",
        "  conexao = pymysql.connect( user= '',\n",
        "                             host= '',\n",
        "                             port= ,\n",
        "                             password= '',\n",
        "                             database= '')\n",
        "except pymysql.Error as e:\n",
        "  print('Erro ao se conectar: ', e)"
      ],
      "metadata": {
        "id": "OuxKhpifBzzN"
      },
      "execution_count": null,
      "outputs": []
    },
    {
      "cell_type": "code",
      "source": [
        "# CRIANDO UM DATABASE PARA SOLUÇÃO DO EXERCICIO\n",
        "novo_banco = 'avaliacao_part1'"
      ],
      "metadata": {
        "id": "FF7uhbbRCvPL"
      },
      "execution_count": null,
      "outputs": []
    },
    {
      "cell_type": "code",
      "source": [
        "# CRIAR O CURSOR\n",
        "cursor = conexao.cursor()"
      ],
      "metadata": {
        "id": "Dvr0ac0b025P"
      },
      "execution_count": null,
      "outputs": []
    },
    {
      "cell_type": "code",
      "source": [
        "criar_database = f\" CREATE DATABASE {novo_banco}\"\n",
        "\n",
        "try:\n",
        "    # Executar a consulta SQL para criar o banco de dados\n",
        "    cursor.execute(criar_database)\n",
        "    print(f\"Banco de dados '{novo_banco}' criado com sucesso.\")\n",
        "except Exception as e:\n",
        "    print(f\"Erro ao criar o banco de dados: {str(e)}\")"
      ],
      "metadata": {
        "colab": {
          "base_uri": "https://localhost:8080/"
        },
        "id": "dcCzvtFYC7Bd",
        "outputId": "5e184efc-0a32-476d-be22-c469bb3bc720"
      },
      "execution_count": null,
      "outputs": [
        {
          "output_type": "stream",
          "name": "stdout",
          "text": [
            "Erro ao criar o banco de dados: (1044, \"Access denied for user 'clerio_fernandes'@'%' to database 'avaliacao_part1'\")\n"
          ]
        }
      ]
    },
    {
      "cell_type": "code",
      "source": [
        "cursor.execute(criar_database)"
      ],
      "metadata": {
        "id": "P3hPO9voDOOS"
      },
      "execution_count": null,
      "outputs": []
    },
    {
      "cell_type": "code",
      "source": [
        "selecionado_database = f\"USE {novo_banco}\"\n",
        "\n",
        "try:\n",
        "    cursor.execute(selecionado_database)\n",
        "    print(f\"Banco de dados '{novo_banco}' selecionado com sucesso.\")\n",
        "\n",
        "except Exception as e:\n",
        "    print(f\"Erro ao selecionar o banco de dados: {str(e)}\")"
      ],
      "metadata": {
        "id": "QxyDYGHJCn-7"
      },
      "execution_count": null,
      "outputs": []
    },
    {
      "cell_type": "code",
      "source": [
        "cursor.execute(selecionado_database)"
      ],
      "metadata": {
        "id": "BlwloUwvDluo"
      },
      "execution_count": null,
      "outputs": []
    },
    {
      "cell_type": "code",
      "source": [
        "# COMANDO DDL CLIENTE\n",
        "ddl_cliente = \"\"\"CREATE TABLE cliente (\n",
        " codigo_cliente INT PRIMARY KEY AUTO_INCREMENT,\n",
        " nome_cliente VARCHAR(n) NOT NULL,\n",
        " sobrenome_cliente VARCHAR(n) NOT NULL,\n",
        " celular INT NOT NULL,\n",
        " telefone INT NOT NULL,\n",
        " rua VARCHAR(n) NOT NULL,\n",
        " municipio_cliente VARCHAR(n) NOT NULL,\n",
        " codigo_tipo_cliente INT,\n",
        " UNIQUE (nome_cliente,sobrenome_cliente,celular)\n",
        ")\"\"\""
      ],
      "metadata": {
        "id": "iBYGvAds077v"
      },
      "execution_count": null,
      "outputs": []
    },
    {
      "cell_type": "code",
      "source": [
        "# EXECUÇÃO DE COMANDO SQL\n",
        "cursor.execute(ddl_cliente)"
      ],
      "metadata": {
        "colab": {
          "base_uri": "https://localhost:8080/"
        },
        "id": "oLylTYMj1tLG",
        "outputId": "c7f709ea-e579-4b2e-d22c-ac0f89070e16"
      },
      "execution_count": null,
      "outputs": [
        {
          "output_type": "execute_result",
          "data": {
            "text/plain": [
              "0"
            ]
          },
          "metadata": {},
          "execution_count": 30
        }
      ]
    },
    {
      "cell_type": "code",
      "source": [
        "# COMANDO DDL PRODUTO\n",
        "ddl_produto = \"\"\"CREATE TABLE produto (\n",
        " nome_produto VARCHAR(n) NOT NULL,\n",
        " descricao_produto VARCHAR(n) NOT NULL,\n",
        " codigo_produto INT PRIMARY KEY AUTO_INCREMENT,\n",
        " codigo_tipo_produto INT,\n",
        " codigo_diretor_responsavel INT,\n",
        " UNIQUE (nome_produto)\n",
        ")\"\"\""
      ],
      "metadata": {
        "id": "DJ9bfJd22jA0"
      },
      "execution_count": null,
      "outputs": []
    },
    {
      "cell_type": "code",
      "source": [
        "# EXECUÇÃO DE COMANDO SQL\n",
        "cursor.execute(ddl_produto)"
      ],
      "metadata": {
        "colab": {
          "base_uri": "https://localhost:8080/"
        },
        "id": "QlhbEc09_tp8",
        "outputId": "8a869dbd-1d37-433f-c711-ed8a17129297"
      },
      "execution_count": null,
      "outputs": [
        {
          "output_type": "execute_result",
          "data": {
            "text/plain": [
              "0"
            ]
          },
          "metadata": {},
          "execution_count": 32
        }
      ]
    },
    {
      "cell_type": "code",
      "source": [
        "# COMANDO DDL CLIENTE PRODUTO\n",
        "ddl_cliente_produto = \"\"\"CREATE TABLE compra\n",
        "(\n",
        " codigo_cliente:  FK INT PRIMARY KEY,\n",
        " codigo_produto INT PRIMARY KEY,\n",
        ")\"\"\""
      ],
      "metadata": {
        "id": "Ldc4HDAz1xM9"
      },
      "execution_count": null,
      "outputs": []
    },
    {
      "cell_type": "code",
      "source": [
        "# EXECUÇÃO DE COMANDO SQL\n",
        "cursor.execute(ddl_cliente_produto)"
      ],
      "metadata": {
        "colab": {
          "base_uri": "https://localhost:8080/"
        },
        "id": "wwkYeuWp2aZl",
        "outputId": "4c1353e8-eb56-4591-f98a-90f23ad20d73"
      },
      "execution_count": null,
      "outputs": [
        {
          "output_type": "execute_result",
          "data": {
            "text/plain": [
              "0"
            ]
          },
          "metadata": {},
          "execution_count": 36
        }
      ]
    },
    {
      "cell_type": "code",
      "source": [
        "# EXECUÇÃO DE COMANDO SQL\n",
        "ddl_tipo_cliente = \"\"\"CREATE TABLE tipo_cliente (\n",
        " codigo_tipo_cliente INT PRIMARY KEY,\n",
        " tipo_cliente VARCHAR(n) NOT NULL AUTO_INCREMENT,\n",
        ")\"\"\""
      ],
      "metadata": {
        "id": "rsXaEJEzAKCj"
      },
      "execution_count": null,
      "outputs": []
    },
    {
      "cell_type": "code",
      "source": [
        "# EXECUÇÃO DE COMANDO SQL\n",
        "cursor.execute(ddl_tipo_cliente)"
      ],
      "metadata": {
        "colab": {
          "base_uri": "https://localhost:8080/"
        },
        "id": "5sUTvXhyAVuC",
        "outputId": "8e091796-f75a-431f-fc5d-b71bcb3ed37e"
      },
      "execution_count": null,
      "outputs": [
        {
          "output_type": "execute_result",
          "data": {
            "text/plain": [
              "0"
            ]
          },
          "metadata": {},
          "execution_count": 38
        }
      ]
    },
    {
      "cell_type": "code",
      "source": [
        "# EXECUÇÃO DE COMANDO SQL\n",
        "ddl_diretores = \"\"\"CREATE TABLE diretor_responsavel (\n",
        " codigo_diretor_responsavel INT PRIMARY KEY AUTO_INCREMENT,\n",
        " nome_diretor_responsavel VARCHAR(n) NOT NULL,\n",
        " email_diretor_responsavel VARCHAR(n) NOT NULL,\n",
        " UNIQUE (nome_diretor_responsavel,email_diretor_responsavel)\n",
        ")\"\"\""
      ],
      "metadata": {
        "id": "PBf6-vBhAY7r"
      },
      "execution_count": null,
      "outputs": []
    },
    {
      "cell_type": "code",
      "source": [
        "# EXECUÇÃO DE COMANDO SQL\n",
        "cursor.execute(ddl_diretores)"
      ],
      "metadata": {
        "colab": {
          "base_uri": "https://localhost:8080/"
        },
        "id": "MaljcCyxAkIZ",
        "outputId": "90f4405c-7756-4200-b620-fe39ddc02768"
      },
      "execution_count": null,
      "outputs": [
        {
          "output_type": "execute_result",
          "data": {
            "text/plain": [
              "0"
            ]
          },
          "metadata": {},
          "execution_count": 42
        }
      ]
    },
    {
      "cell_type": "code",
      "source": [
        "# EXECUÇÃO DE COMANDO SQL\n",
        "ddl_tipo_produto = \"\"\"CREATE TABLE tipo_produto\n",
        "(\n",
        " tipo_produto VARCHAR(n) NOT NULL,\n",
        " codigo_tipo_produto INT PRIMARY KEY AUTO_INCREMENT,\n",
        " UNIQUE (tipo_produto)\n",
        ")\"\"\"\n"
      ],
      "metadata": {
        "id": "tP3-igsBAmtR"
      },
      "execution_count": null,
      "outputs": []
    },
    {
      "cell_type": "code",
      "source": [
        "# EXECUÇÃO DE COMANDO SQL\n",
        "cursor.execute(ddl_tipo_produto)"
      ],
      "metadata": {
        "colab": {
          "base_uri": "https://localhost:8080/"
        },
        "id": "NYdCk_0nAv_q",
        "outputId": "a1b3a086-605c-44a3-83c0-f8582514bf81"
      },
      "execution_count": null,
      "outputs": [
        {
          "output_type": "execute_result",
          "data": {
            "text/plain": [
              "0"
            ]
          },
          "metadata": {},
          "execution_count": 44
        }
      ]
    },
    {
      "cell_type": "code",
      "source": [
        "# ADICIONANDO CHAVES ESTRANGEIRAS\n",
        "alter_queries = \"\"\"\n",
        "    ALTER TABLE cliente ADD FOREIGN KEY(codigo_tipo_cliente) REFERENCES tipo_cliente (codigo_tipo_cliente);\n",
        "    ALTER TABLE produto ADD FOREIGN KEY(codigo_tipo_produto) REFERENCES tipo_produto (codigo_tipo_produto);\n",
        "    ALTER TABLE produto ADD FOREIGN KEY(codigo_diretor_responsavel) REFERENCES diretor_responsavel (codigo_diretor_responsavel);\n",
        "    ALTER TABLE compra ADD FOREIGN KEY(codigo_cliente:  FK) REFERENCES cliente (codigo_cliente:  FK);\n",
        "    ALTER TABLE compra ADD FOREIGN KEY(codigo_produto) REFERENCES cliente (codigo_produto)\n",
        "\"\"\"\n",
        "\n",
        "# Dividindo as consultas SQL e executando uma por uma\n",
        "try:\n",
        "    queries = alter_queries.split(';')\n",
        "    for query in queries:\n",
        "        if query.strip():  # Ignora consultas em branco\n",
        "            cursor.execute(query)\n",
        "    print(\"Chaves estrangeiras adicionadas com sucesso.\")\n",
        "except Exception as e:\n",
        "    print(f\"Erro ao adicionar chaves estrangeiras: {str(e)}\")"
      ],
      "metadata": {
        "colab": {
          "base_uri": "https://localhost:8080/"
        },
        "id": "IXK24nYvBUMP",
        "outputId": "6bc4e1aa-cd5c-4570-f251-4a78d0dfe06c"
      },
      "execution_count": null,
      "outputs": [
        {
          "output_type": "stream",
          "name": "stdout",
          "text": [
            "Chaves estrangeiras adicionadas com sucesso.\n"
          ]
        }
      ]
    },
    {
      "cell_type": "code",
      "source": [
        "#COMMIT\n",
        "conexao.commit()"
      ],
      "metadata": {
        "id": "MNXC5NLwBpZq"
      },
      "execution_count": null,
      "outputs": []
    },
    {
      "cell_type": "code",
      "source": [
        "conexao.close()"
      ],
      "metadata": {
        "id": "Ltof4y_gPHrF"
      },
      "execution_count": null,
      "outputs": []
    }
  ]
}