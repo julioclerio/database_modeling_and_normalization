{
  "nbformat": 4,
  "nbformat_minor": 0,
  "metadata": {
    "colab": {
      "provenance": [],
      "authorship_tag": "ABX9TyO18TQEehoM57PN9z8zJP73",
      "include_colab_link": true
    },
    "kernelspec": {
      "name": "python3",
      "display_name": "Python 3"
    },
    "language_info": {
      "name": "python"
    }
  },
  "cells": [
    {
      "cell_type": "markdown",
      "metadata": {
        "id": "view-in-github",
        "colab_type": "text"
      },
      "source": [
        "<a href=\"https://colab.research.google.com/github/julioclerio/database_modeling_and_normalization/blob/main/part_3/3_intersecoes_alteracoes_remocoes_objetos_dados.ipynb\" target=\"_parent\"><img src=\"https://colab.research.google.com/assets/colab-badge.svg\" alt=\"Open In Colab\"/></a>"
      ]
    },
    {
      "cell_type": "markdown",
      "source": [
        "MODELO CONCEITUAL E LOGICO\n",
        "\n",
        "<img src=\"https://raw.githubusercontent.com/julioclerio/database_modeling_and_normalization/96c870ad748c91062cee9495385c7318450cecc9/part_3/DER_conceptual_model.png\" width=\"330\" alt=\"Modelo Conceitual\">\n",
        "\n",
        "\n",
        "<img src=\"https://raw.githubusercontent.com/julioclerio/database_modeling_and_normalization/8455cec3be7f3adefb626e6e718b6cc44fc40547/part_3/DER_logical_model.png\" width=\"340\" alt=\"Modelo Lógico\">\n",
        "\n",
        "\n"
      ],
      "metadata": {
        "id": "yYUfA-9VdMCV"
      }
    },
    {
      "cell_type": "code",
      "execution_count": null,
      "metadata": {
        "colab": {
          "base_uri": "https://localhost:8080/"
        },
        "id": "7xdty-otAlAr",
        "outputId": "b3000e7d-647b-4ab7-b0d1-27f1f5271e6d"
      },
      "outputs": [
        {
          "output_type": "stream",
          "name": "stdout",
          "text": [
            "Collecting pymysql\n",
            "  Downloading PyMySQL-1.1.0-py3-none-any.whl (44 kB)\n",
            "\u001b[2K     \u001b[90m━━━━━━━━━━━━━━━━━━━━━━━━━━━━━━━━━━━━━━━━\u001b[0m \u001b[32m44.8/44.8 kB\u001b[0m \u001b[31m1.2 MB/s\u001b[0m eta \u001b[36m0:00:00\u001b[0m\n",
            "\u001b[?25hInstalling collected packages: pymysql\n",
            "Successfully installed pymysql-1.1.0\n"
          ]
        }
      ],
      "source": [
        "!pip install pymysql"
      ]
    },
    {
      "cell_type": "code",
      "source": [
        "# IMPORTAÇÃO BIBLIOTECA\n",
        "import pymysql\n",
        "import pandas as pd"
      ],
      "metadata": {
        "id": "wNnAX7ovAt6h"
      },
      "execution_count": null,
      "outputs": []
    },
    {
      "cell_type": "code",
      "source": [
        "# CRIAR CONEXÃO AO MYSQL - AWS\n",
        "\n",
        "try:\n",
        "  conexao = pymysql.connect( user= '',\n",
        "                             host= '',\n",
        "                             port= ,\n",
        "                             password= '',\n",
        "                             database= '')\n",
        "except pymysql.Error as e:\n",
        "  print('Erro ao se conectar: ', e)"
      ],
      "metadata": {
        "id": "xQbs4UPfRUPc"
      },
      "execution_count": null,
      "outputs": []
    },
    {
      "cell_type": "code",
      "source": [
        "# CRIAR CONEXÃO AO MYSQL - AWS\n",
        "\n",
        "try:\n",
        "    conexao = pymysql.connect(user = 'clerio_fernandes',\n",
        "                             host = 'ada-santander-1007.clzgkgrmzmzh.us-east-1.rds.amazonaws.com',\n",
        "                             port = 3306,\n",
        "                             password = '123456',\n",
        "                             database = 'clerio_fernandes_biblioteca' )\n",
        "\n",
        "except pymysql.Error as e:\n",
        "    print('Erro ao se conectar: ', e)"
      ],
      "metadata": {
        "id": "yoiEl7bkRU7D"
      },
      "execution_count": 39,
      "outputs": []
    },
    {
      "cell_type": "code",
      "source": [],
      "metadata": {
        "id": "w892jyKAhxDt"
      },
      "execution_count": null,
      "outputs": []
    },
    {
      "cell_type": "code",
      "source": [
        "# CRIANDO UM DATABASE PARA SOLUÇÃO DO EXERCICIO\n",
        "novo_banco = 'avaliacao_part3'"
      ],
      "metadata": {
        "id": "BbhycMLuRWSi"
      },
      "execution_count": 35,
      "outputs": []
    },
    {
      "cell_type": "code",
      "source": [
        "# CRIAR O CURSOR\n",
        "cursor = conexao.cursor()"
      ],
      "metadata": {
        "id": "2lBDmXXwRYWa"
      },
      "execution_count": 40,
      "outputs": []
    },
    {
      "cell_type": "code",
      "source": [
        "criar_database = f\" CREATE DATABASE {novo_banco}\"\n",
        "\n",
        "try:\n",
        "    # Executar a consulta SQL para criar o banco de dados\n",
        "    cursor.execute(criar_database)\n",
        "    print(f\"Banco de dados '{novo_banco}' criado com sucesso.\")\n",
        "except Exception as e:\n",
        "    print(f\"Erro ao criar o banco de dados: {str(e)}\")"
      ],
      "metadata": {
        "id": "dfw4hK4qRYwi",
        "colab": {
          "base_uri": "https://localhost:8080/"
        },
        "outputId": "6d355774-ea5f-417b-b2f1-5a2a07073351"
      },
      "execution_count": 37,
      "outputs": [
        {
          "output_type": "stream",
          "name": "stdout",
          "text": [
            "Erro ao criar o banco de dados: (1044, \"Access denied for user 'clerio_fernandes'@'%' to database 'avaliacao_part3'\")\n"
          ]
        }
      ]
    },
    {
      "cell_type": "code",
      "source": [
        "# SELECIONAR O BANCO DE DADOS CRIADO\n",
        "selecionado_database = f\"USE {novo_banco}\"\n",
        "\n",
        "try:\n",
        "    cursor.execute(selecionado_database)\n",
        "    print(f\"Banco de dados '{novo_banco}' selecionado com sucesso.\")\n",
        "\n",
        "\n",
        "except Exception as e:\n",
        "    print(f\"Erro ao selecionar o banco de dados: {str(e)}\")"
      ],
      "metadata": {
        "id": "1sjJW4SaRfY6"
      },
      "execution_count": null,
      "outputs": []
    },
    {
      "cell_type": "code",
      "source": [
        "# COMANDO DDL CRIAR TABELA ALUNO\n",
        "ddl_aluno = \"\"\"CREATE TABLE aluno (\n",
        " nome_aluno VARCHAR(255) NOT NULL,\n",
        " id_aluno INT PRIMARY KEY AUTO_INCREMENT,\n",
        " aluno_alocado BOOLEAN,\n",
        " id_turma INT,\n",
        " ADD FOREIGN KEY (id_turma) REFERENCES turma(id_turma)\n",
        " UNIQUE (nome_aluno)\n",
        ")\"\"\"\n",
        "cursor.execute(ddl_aluno)"
      ],
      "metadata": {
        "id": "p3hR-ddVRl1D",
        "outputId": "b845ff3c-aa51-4c31-dd51-00926d346102",
        "colab": {
          "base_uri": "https://localhost:8080/"
        }
      },
      "execution_count": 41,
      "outputs": [
        {
          "output_type": "execute_result",
          "data": {
            "text/plain": [
              "0"
            ]
          },
          "metadata": {},
          "execution_count": 41
        }
      ]
    },
    {
      "cell_type": "code",
      "source": [
        "# COMANDO DDL CRIAR TABELA TURMA\n",
        "ddl_turma = \"\"\"CREATE TABLE turma (\n",
        " nome_turma VARCHAR(255),\n",
        " id_turma INT PRIMARY KEY AUTO_INCREMENT,\n",
        " codigo_turma VARCHAR(255) NOT NULL,\n",
        " id_turma INT NOT NULL,\n",
        " FOREIGN KEY (id_turma) REFERENCES turma(id_turma)\n",
        ")\"\"\"\n",
        "cursor.execute(ddl_turma)"
      ],
      "metadata": {
        "id": "BDQXtl5ZSEij",
        "outputId": "193b0956-68df-4e71-e6f3-879d56c72237",
        "colab": {
          "base_uri": "https://localhost:8080/"
        }
      },
      "execution_count": 59,
      "outputs": [
        {
          "output_type": "execute_result",
          "data": {
            "text/plain": [
              "0"
            ]
          },
          "metadata": {},
          "execution_count": 59
        }
      ]
    },
    {
      "cell_type": "code",
      "source": [
        "# COMANDO DDL CRIAR TABELA DISCIPLINA\n",
        "ddl_disciplina = \"\"\"CREATE TABLE disciplina(\n",
        " id_disciplina INT PRIMARY KEY AUTO_INCREMENT,\n",
        " nome_disciplina VARCHAR(255) NOT NULL,\n",
        " UNIQUE (nome_disciplina)\n",
        ")\"\"\"\n",
        "cursor.execute(ddl_disciplina)"
      ],
      "metadata": {
        "id": "0RHv0gNBSMcr"
      },
      "execution_count": null,
      "outputs": []
    },
    {
      "cell_type": "code",
      "source": [
        "# COMANDO DDL CRIAR TABELA PROFESSOR\n",
        "ddl_professor = \"\"\"CREATE TABLE professor (\n",
        " nome_professor VARCHAR(255) NOT NULL,\n",
        " id_professor INT PRIMARY KEY AUTO_INCREMENT,\n",
        " id_disciplina INT,\n",
        " UNIQUE (nome_professor)\n",
        ")\"\"\"\n",
        "cursor.execute(ddl_professor)"
      ],
      "metadata": {
        "id": "r9XgR3lpSjNC"
      },
      "execution_count": null,
      "outputs": []
    },
    {
      "cell_type": "code",
      "source": [
        "# COMANDO DDL CRIAR TABELA ALUNO TURMA\n",
        "ddl_aluno_turma = \"\"\"CREATE TABLE aluno_turma (\n",
        "    id_aluno INTEGER REFERENCES aluno(id_aluno),\n",
        "    id_turma INTEGER REFERENCES turma(id_turma),\n",
        "    PRIMARY KEY (id_aluno, id_turma)\n",
        ")\"\"\"\n",
        "cursor.execute(ddl_aluno_turma)"
      ],
      "metadata": {
        "id": "nunELZjTSX6j",
        "outputId": "6e2e63af-3134-4b0e-9104-5ddfd7b18855",
        "colab": {
          "base_uri": "https://localhost:8080/"
        }
      },
      "execution_count": 62,
      "outputs": [
        {
          "output_type": "execute_result",
          "data": {
            "text/plain": [
              "0"
            ]
          },
          "metadata": {},
          "execution_count": 62
        }
      ]
    },
    {
      "cell_type": "code",
      "source": [
        "# COMANDO DDL CRIAR TABELA PROFESSOR DISCIPLINA\n",
        "ddl_professor_disciplina = \"\"\"CREATE TABLE professor_disciplina (\n",
        "    id_disciplina INTEGER REFERENCES disciplina(id_disciplina),\n",
        "    id_professor INTEGER REFERENCES professor(id_professor),\n",
        "    PRIMARY KEY (id_disciplina, id_professor)\n",
        ")\"\"\"\n",
        "cursor.execute(ddl_professor_disciplina)"
      ],
      "metadata": {
        "id": "NcvzAGa7UIQb"
      },
      "execution_count": null,
      "outputs": []
    },
    {
      "cell_type": "code",
      "source": [
        "# COMANDO DDL CRIAR TABELA TURMA PROFESSOR\n",
        "ddl_turma_professor = \"\"\"CREATE TABLE turma_professor (\n",
        "    id_turma INTEGER REFERENCES turma(id_turma),\n",
        "    id_professor INTEGER REFERENCES professor(id_professor),\n",
        "    PRIMARY KEY (id_turma, id_professor)\n",
        ")\"\"\"\n",
        "cursor.execute(ddl_turma_professor)"
      ],
      "metadata": {
        "id": "oAdvop9yU3TC",
        "outputId": "fd12930d-6bae-4906-83da-b121cc0f7280",
        "colab": {
          "base_uri": "https://localhost:8080/"
        }
      },
      "execution_count": 64,
      "outputs": [
        {
          "output_type": "execute_result",
          "data": {
            "text/plain": [
              "0"
            ]
          },
          "metadata": {},
          "execution_count": 64
        }
      ]
    },
    {
      "cell_type": "code",
      "source": [
        "foreign_keys = \"\"\" ALTER TABLE professor ADD FOREIGN KEY(id_disciplina) REFERENCES disciplina (id_disciplina);\n",
        "ALTER TABLE aluno_turma ADD FOREIGN KEY(id_aluno) REFERENCES aluno (id_aluno);\n",
        "ALTER TABLE aluno_turma ADD FOREIGN KEY(id_turma) REFERENCES turma (id_turma);\n",
        "ALTER TABLE professor_disciplina ADD FOREIGN KEY(id_disciplina) REFERENCES disciplina (id_disciplina);\n",
        "ALTER TABLE professor_disciplina ADD FOREIGN KEY(id_professor) REFERENCES professor (id_professor);\n",
        "ALTER TABLE turma_professor ADD FOREIGN KEY(id_turma) REFERENCES turma (id_turma);\n",
        "ALTER TABLE turma_professor ADD FOREIGN KEY(id_professor) REFERENCES professor (id_professor) \"\"\"\n",
        "\n",
        "\n",
        "# Dividindo as consultas SQL e executando uma por uma\n",
        "try:\n",
        "    queries = foreign_keys.split(';')\n",
        "    for query in queries:\n",
        "        if query.strip():  # Ignora consultas em branco\n",
        "            cursor.execute(query)\n",
        "    print(\"Chaves estrangeiras adicionadas com sucesso.\")\n",
        "except Exception as e:\n",
        "    print(f\"Erro ao adicionar chaves estrangeiras: {str(e)}\")"
      ],
      "metadata": {
        "id": "zK1S9_xYZv3U",
        "outputId": "175b35b4-2c6f-4c59-fd05-f5ba0d57ab11",
        "colab": {
          "base_uri": "https://localhost:8080/"
        }
      },
      "execution_count": 65,
      "outputs": [
        {
          "output_type": "stream",
          "name": "stdout",
          "text": [
            "Chaves estrangeiras adicionadas com sucesso.\n"
          ]
        }
      ]
    },
    {
      "cell_type": "markdown",
      "source": [
        "a) Inserir pelo menos duas turmas diferentes na tabela de turma;"
      ],
      "metadata": {
        "id": "0M_Zrqre9dyy"
      }
    },
    {
      "cell_type": "code",
      "source": [
        "nome_turma1 = \"7 ANO\"\n",
        "codigo_turma1 = \"T704\"\n",
        "sql_insert_turma1 = \"INSERT INTO turma (nome_turma, codigo_turma) VALUES (%s, %s)\"\n",
        "cursor.execute(sql_insert_turma1, (nome_turma1, codigo_turma1))\n",
        "\n",
        "nome_turma2 = \"8 ANO\"\n",
        "codigo_turma2 = \"T801\"\n",
        "sql_insert_turma2 = \"INSERT INTO turma (nome_turma, codigo_turma) VALUES (%s, %s)\"\n",
        "cursor.execute(sql_insert_turma2, (nome_turma2, codigo_turma2))\n",
        "\n",
        "conexao.commit()"
      ],
      "metadata": {
        "id": "sUeTwfb2AUOr"
      },
      "execution_count": null,
      "outputs": []
    },
    {
      "cell_type": "code",
      "source": [
        "# INSERINDO POR INPUT\n",
        "nome_turma = input(\"Digite o nome da turma: \")\n",
        "codigo_turma = input(\"Digite o codigo da turma: \")\n",
        "sql_insert_turma1 = \"INSERT INTO turma (nome_turma, codigo_turma) values (%s, %s)\"\n",
        "cursor.execute(sql_insert_turma1, (nome_turma, codigo_turma))\n",
        "\n",
        "conexao.commit()\n",
        "print('\\n ------------ TURMA CADASTRADA COM SUCESSO ------------------------')\n",
        "\n",
        "# MOSTRAR A CATEGORIA ADICIONADA\n",
        "df_turma = pd.read_sql_query('select * from turma', conexao)\n",
        "print(df_turma.to_markdown(index = False))"
      ],
      "metadata": {
        "id": "jfRc7P5vW9b9"
      },
      "execution_count": null,
      "outputs": []
    },
    {
      "cell_type": "markdown",
      "source": [
        "b) Inserir pelo menos 1 aluno alocado em cada uma destas turmas na tabela aluno (todos com NULL na coluna aluno_alocado)"
      ],
      "metadata": {
        "id": "buvaagj19Xg7"
      }
    },
    {
      "cell_type": "code",
      "source": [
        "nome_aluno1 = \"Pedro\"\n",
        "id_turma1 = 1\n",
        "sql_insert_aluno1 = \"INSERT INTO aluno (nome_aluno, aluno_alocado, id_turma) VALUES (%s, NULL, %s)\"\n",
        "cursor.execute(sql_insert_aluno1, (nome_aluno1, id_turma1))\n",
        "\n",
        "nome_aluno2 = \"Ana\"\n",
        "id_turma2 = 2\n",
        "sql_insert_aluno2 = \"INSERT INTO aluno (nome_aluno, aluno_alocado, id_turma) VALUES (%s, NULL, %s)\"\n",
        "cursor.execute(sql_insert_aluno2, (nome_aluno2, id_turma2))\n",
        "\n",
        "conexao.commit()"
      ],
      "metadata": {
        "id": "RZMU70MW_gTD"
      },
      "execution_count": null,
      "outputs": []
    },
    {
      "cell_type": "code",
      "source": [
        "# INSERINDO POR INPUT\n",
        "df_turma = pd.read_sql_query('select * from turma', conexao)\n",
        "print(df_turma.to_markdown(index = False))\n",
        "\n",
        "nome_aluno = input(\"Digite o nome do aluno: \")\n",
        "codigo_turma = int(input(\"Digite o ID da turma: \"))\n",
        "\n",
        "if codigo_turma not in df_turma['id_turma'].tolist():\n",
        "    # Inserir aluno na tabela aluno sem turma associada\n",
        "    sql_insert_aluno = \"INSERT INTO aluno (nome_aluno, aluno_alocado, id_turma) values (%s, NULL, NULL)\"\n",
        "    cursor.execute(sql_insert_aluno, (nome_aluno,))\n",
        "    conexao.commit()\n",
        "    print('\\n ------------ ALUNO CADASTRADO COM SUCESSO ------------------------')\n",
        "else:\n",
        "    # Inserir aluno na tabela aluno com turma associada\n",
        "    sql_insert_aluno = \"INSERT INTO aluno (nome_aluno, aluno_alocado, id_turma) values (%s, NULL, %s)\"\n",
        "    cursor.execute(sql_insert_aluno, (nome_aluno, codigo_turma))\n",
        "    conexao.commit()\n",
        "    print('\\n ------------ ALUNO CADASTRADO COM SUCESSO ------------------------')\n",
        "\n",
        "# MOSTRAR A TABELA ADICIONADA\n",
        "sql_join = \"\"\"\n",
        "SELECT\n",
        "    a.*,\n",
        "    t.*\n",
        "FROM\n",
        "    aluno AS a\n",
        "JOIN\n",
        "    turma AS t ON a.id_turma = t.id_turma\n",
        "\"\"\"\n",
        "\n",
        "df_aluno_turma = pd.read_sql_query(sql_join, conexao)\n",
        "print(df_aluno_turma.to_markdown(index = False))\n"
      ],
      "metadata": {
        "id": "D4RMW16djrOP"
      },
      "execution_count": null,
      "outputs": []
    },
    {
      "cell_type": "markdown",
      "source": [
        "c) Inserir pelo menos 2 alunos não alocados em nenhuma turma na tabela aluno (todos com NULL na coluna aluno_alocado);"
      ],
      "metadata": {
        "id": "pQSkppvl-_tS"
      }
    },
    {
      "cell_type": "code",
      "source": [
        "nome_aluno1 = \"João\"\n",
        "sql_insert_aluno1 = \"INSERT INTO aluno (nome_aluno, aluno_alocado, id_turma) VALUES (%s, NULL, NULL)\"\n",
        "cursor.execute(sql_insert_aluno1, (nome_aluno1,))\n",
        "\n",
        "nome_aluno2 = \"Maria\"\n",
        "sql_insert_aluno2 = \"INSERT INTO aluno (nome_aluno, aluno_alocado, id_turma) VALUES (%s, NULL, NULL)\"\n",
        "cursor.execute(sql_insert_aluno2, (nome_aluno2,))\n",
        "\n",
        "\n",
        "conexao.commit()"
      ],
      "metadata": {
        "id": "C3xM0gr5-7Eb"
      },
      "execution_count": null,
      "outputs": []
    },
    {
      "cell_type": "markdown",
      "source": [
        "d) Atualizar a coluna aluno_alocado da tabela aluno, de modo que os alunos associados a uma disciplina recebam o valor True e alunos não associdos a nenhuma disciplina recebam o falor False para esta coluna."
      ],
      "metadata": {
        "id": "xkUAlKP69wNx"
      }
    },
    {
      "cell_type": "code",
      "source": [
        "# PARA ALUNOS JÁ CADASTRADOS E QUE FORAM INSERIDOS UM CODIGO DE TURMA ASSOCIADO\n",
        "atualizar_tabelas_com_turma = \"\"\"UPDATE aluno\n",
        "SET aluno_alocado = 1\n",
        "WHERE id_turma IS NOT NULL\"\"\"\n",
        "\n",
        "cursor.execute(atualizar_tabelas_com_turma)\n",
        "conexao.commit()\n"
      ],
      "metadata": {
        "id": "ztxH8tKd9tt1"
      },
      "execution_count": null,
      "outputs": []
    },
    {
      "cell_type": "code",
      "source": [
        "# PARA ALUNOS JA CADASTRADOS QUE\n",
        "atualizar_tabelas_sem_turma = \"\"\"UPDATE aluno\n",
        "SET aluno_alocado = 0\n",
        "WHERE aluno_alocado IS NULL\"\"\"\n",
        "\n",
        "cursor.execute(atualizar_tabelas_sem_turma)\n",
        "conexao.commit()\n"
      ],
      "metadata": {
        "id": "8QKAFvXy-Ppb"
      },
      "execution_count": null,
      "outputs": []
    }
  ]
}