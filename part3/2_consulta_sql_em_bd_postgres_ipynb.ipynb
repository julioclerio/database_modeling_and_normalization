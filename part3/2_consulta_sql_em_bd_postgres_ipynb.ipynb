{
  "nbformat": 4,
  "nbformat_minor": 0,
  "metadata": {
    "colab": {
      "provenance": [],
      "authorship_tag": "ABX9TyNN8zb4OF7qb/SEBe8vNgdF",
      "include_colab_link": true
    },
    "kernelspec": {
      "name": "python3",
      "display_name": "Python 3"
    },
    "language_info": {
      "name": "python"
    }
  },
  "cells": [
    {
      "cell_type": "markdown",
      "metadata": {
        "id": "view-in-github",
        "colab_type": "text"
      },
      "source": [
        "<a href=\"https://colab.research.google.com/github/julioclerio/database_modeling_and_normalization/blob/main/2_consulta_sql_em_bd_postgres_ipynb.ipynb\" target=\"_parent\"><img src=\"https://colab.research.google.com/assets/colab-badge.svg\" alt=\"Open In Colab\"/></a>"
      ]
    },
    {
      "cell_type": "code",
      "execution_count": null,
      "metadata": {
        "colab": {
          "base_uri": "https://localhost:8080/"
        },
        "id": "uRflzzShL3TR",
        "outputId": "d071720f-027f-4cf1-bb7f-bf98beb4078c"
      },
      "outputs": [
        {
          "output_type": "stream",
          "name": "stdout",
          "text": [
            "Requirement already satisfied: pymysql in /usr/local/lib/python3.10/dist-packages (1.1.0)\n"
          ]
        }
      ],
      "source": [
        "!pip install pymysql"
      ]
    },
    {
      "cell_type": "code",
      "source": [
        "# IMPORTAÇÃO BIBLIOTECA\n",
        "import pymysql"
      ],
      "metadata": {
        "id": "28R5Hhd6L62v"
      },
      "execution_count": null,
      "outputs": []
    },
    {
      "cell_type": "code",
      "source": [
        "# CRIAR CONEXÃO AO MYSQL - AWS\n",
        "\n",
        "try:\n",
        "  conexao = pymysql.connect( user= '',\n",
        "                             host= '',\n",
        "                             port= ,\n",
        "                             password= '',\n",
        "                             database= '')\n",
        "except pymysql.Error as e:\n",
        "  print('Erro ao se conectar: ', e)"
      ],
      "metadata": {
        "id": "tc-dWUP1L8Wx"
      },
      "execution_count": null,
      "outputs": []
    },
    {
      "cell_type": "code",
      "source": [
        "# CRIANDO UM DATABASE PARA SOLUÇÃO DO EXERCICIO\n",
        "novo_banco = 'avaliacao_part2'"
      ],
      "metadata": {
        "id": "OkHGoZAyMApl"
      },
      "execution_count": null,
      "outputs": []
    },
    {
      "cell_type": "code",
      "source": [
        "# CRIAR O CURSOR\n",
        "cursor = conexao.cursor()"
      ],
      "metadata": {
        "id": "CGrsC3-CMCo-"
      },
      "execution_count": null,
      "outputs": []
    },
    {
      "cell_type": "code",
      "source": [
        "criar_database = f\" CREATE DATABASE {novo_banco}\"\n",
        "\n",
        "try:\n",
        "    # Executar a consulta SQL para criar o banco de dados\n",
        "    cursor.execute(criar_database)\n",
        "    print(f\"Banco de dados '{novo_banco}' criado com sucesso.\")\n",
        "except Exception as e:\n",
        "    print(f\"Erro ao criar o banco de dados: {str(e)}\")"
      ],
      "metadata": {
        "colab": {
          "base_uri": "https://localhost:8080/"
        },
        "id": "TL4SnLQDMEN1",
        "outputId": "f1260bce-d734-4f6c-b9c0-3b893069be13"
      },
      "execution_count": null,
      "outputs": [
        {
          "output_type": "stream",
          "name": "stdout",
          "text": [
            "Erro ao criar o banco de dados: (1044, \"Access denied for user 'clerio_fernandes'@'%' to database 'avaliacao_part2'\")\n"
          ]
        }
      ]
    },
    {
      "cell_type": "code",
      "source": [
        "cursor.execute(criar_database)"
      ],
      "metadata": {
        "id": "hrVVFVJXMFx1"
      },
      "execution_count": null,
      "outputs": []
    },
    {
      "cell_type": "code",
      "source": [
        "# SELECIONAR O BANCO DE DADOS CRIADO\n",
        "selecionado_database = f\"USE {novo_banco}\"\n",
        "\n",
        "try:\n",
        "    cursor.execute(selecionado_database)\n",
        "    print(f\"Banco de dados '{novo_banco}' selecionado com sucesso.\")\n",
        "\n",
        "except Exception as e:\n",
        "    print(f\"Erro ao selecionar o banco de dados: {str(e)}\")"
      ],
      "metadata": {
        "id": "q_Wwxne-MH0-"
      },
      "execution_count": null,
      "outputs": []
    },
    {
      "cell_type": "code",
      "source": [
        "cursor.execute(selecionado_database)"
      ],
      "metadata": {
        "id": "dHU88cr0MLmu"
      },
      "execution_count": null,
      "outputs": []
    },
    {
      "cell_type": "code",
      "source": [
        "# COMANDO DDL CRIAR TABELA CLIENTE\n",
        "ddl_produtos = \"\"\"CREATE TABLE produtos_ex2 (\n",
        "    id SERIAL PRIMARY KEY  AUTO_INCREMENT,\n",
        "    nome VARCHAR(100) NOT NULL,\n",
        "    preco DECIMAL(10, 2) NOT NULL\n",
        ")\"\"\""
      ],
      "metadata": {
        "id": "XFmcPQCZMOMm"
      },
      "execution_count": null,
      "outputs": []
    },
    {
      "cell_type": "code",
      "source": [
        "cursor.execute(ddl_produtos)"
      ],
      "metadata": {
        "id": "JZ8K6ZtVMYH1"
      },
      "execution_count": null,
      "outputs": []
    },
    {
      "cell_type": "code",
      "source": [
        "# COMANDO DDL CRIAR TABELA CATEGORIA\n",
        "ddl_categorias = \"\"\"CREATE TABLE categorias_ex2 (\n",
        "    id SERIAL PRIMARY KEY  AUTO_INCREMENT,\n",
        "    nome VARCHAR(100) NOT NULL\n",
        ")\"\"\""
      ],
      "metadata": {
        "id": "GtLMqsY6Mcc9"
      },
      "execution_count": null,
      "outputs": []
    },
    {
      "cell_type": "code",
      "source": [
        "cursor.execute(ddl_categorias)"
      ],
      "metadata": {
        "colab": {
          "base_uri": "https://localhost:8080/"
        },
        "id": "BHw0LTyFMeEU",
        "outputId": "e93ef8b7-3630-4ca6-bfa6-9ddcceea5d8a"
      },
      "execution_count": null,
      "outputs": [
        {
          "output_type": "execute_result",
          "data": {
            "text/plain": [
              "0"
            ]
          },
          "metadata": {},
          "execution_count": 32
        }
      ]
    },
    {
      "cell_type": "code",
      "source": [
        "# COMANDO DDL CRIAR TABELA RELACIONAL PRODUTO CATEGORIA\n",
        "ddl_produtos_categorias = \"\"\"CREATE TABLE produtos_categorias_ex2 (\n",
        "    produto_id INTEGER REFERENCES produtos(id),\n",
        "    categoria_id INTEGER REFERENCES categorias(id),\n",
        "    PRIMARY KEY (produto_id, categoria_id)\n",
        ")\"\"\""
      ],
      "metadata": {
        "id": "tFKBvu8lMfe8"
      },
      "execution_count": null,
      "outputs": []
    },
    {
      "cell_type": "code",
      "source": [
        "cursor.execute(ddl_produtos_categorias)"
      ],
      "metadata": {
        "colab": {
          "base_uri": "https://localhost:8080/"
        },
        "id": "0wtzjEUCMfVc",
        "outputId": "33169f95-8a36-4f64-cb25-569f6fbf40fa"
      },
      "execution_count": null,
      "outputs": [
        {
          "output_type": "execute_result",
          "data": {
            "text/plain": [
              "0"
            ]
          },
          "metadata": {},
          "execution_count": 34
        }
      ]
    },
    {
      "cell_type": "markdown",
      "source": [
        "INSERINDO DADOS NA TABELA PARA CONSULTAS"
      ],
      "metadata": {
        "id": "moT3zdNayV5O"
      }
    },
    {
      "cell_type": "code",
      "source": [
        "# INSERINDO DADOS NA TABELA PARA REALIZAR AS CONSULTAS\n",
        "import random\n",
        "categorias = {\n",
        "    \"Frutas\": [\"Abacaxi\", \"Banana\", \"Maçã\", \"Laranja\", \"Manga\"],\n",
        "    \"Eletrônicos\": [\"Celular\", \"Notebook\", \"Televisão\", \"Tablet\", \"Smartwatch\"],\n",
        "    \"Vestuário\": [\"Camiseta\", \"Calça\", \"Vestido\", \"Tênis\", \"Chapéu\"],\n",
        "    \"Livros\": [\"Romance\", \"Ficção\", \"História\", \"Matemática\", \"Ciências\"],\n",
        "    \"Esportes\": [\"Bola\", \"Raquete\", \"Tênis de Corrida\", \"Bicicleta\", \"Capacete\"],\n",
        "    \"Móveis\": [\"Mesa\", \"Cadeira\", \"Sofá\", \"Estante\", \"Cama\"],\n",
        "    \"Bebidas\": [\"Água\", \"Refrigerante\", \"Suco\", \"Cerveja\", \"Vinho\"],\n",
        "    \"Alimentos\": [\"Arroz\", \"Feijão\", \"Macarrão\", \"Carne\", \"Peixe\"],\n",
        "    \"Brinquedos\": [\"Boneca\", \"Carrinho\", \"Quebra-cabeça\", \"Jogo de Tabuleiro\", \"Pelúcia\"],\n",
        "    \"Instrumentos Musicais\": [\"Guitarra\", \"Bateria\", \"Piano\", \"Violino\", \"Flauta\"]\n",
        "}\n",
        "\n",
        "# Inserindo categorias e produtos\n",
        "for categoria, produtos in categorias.items():\n",
        "    # Inserir categoria\n",
        "    sql_insert_categoria = f\"INSERT INTO categorias_ex2 (nome) VALUES ('{categoria}')\"\n",
        "    cursor.execute(sql_insert_categoria)\n",
        "    id_categoria = cursor.lastrowid  # Pega o ID da última categoria inserida\n",
        "\n",
        "    # Inserir produtos relacionados à categoria\n",
        "    for produto in produtos:\n",
        "        preco_produto = round(random.uniform(10, 1000), 2)  # Gera um preço aleatório entre 10 e 1000 reais\n",
        "        sql_insert_produto = f\"INSERT INTO produtos_ex2 (nome, preco) VALUES ('{produto}', {preco_produto})\"\n",
        "        cursor.execute(sql_insert_produto)\n",
        "        id_produto = cursor.lastrowid  # Pega o ID do último produto inserido\n",
        "\n",
        "        # Relacionar produto e categoria\n",
        "        sql_insert_relacao = f\"INSERT INTO produtos_categorias_ex2 (produto_id, categoria_id) VALUES ({id_produto}, {id_categoria})\"\n",
        "        cursor.execute(sql_insert_relacao)\n",
        "\n",
        "conexao.commit()\n",
        "\n",
        "\n",
        "print(\"Categorias e produtos inseridos com sucesso!\")"
      ],
      "metadata": {
        "id": "3lD2ZtV0yVU4"
      },
      "execution_count": null,
      "outputs": []
    },
    {
      "cell_type": "markdown",
      "source": [
        "CONSULTAS AO BANCO SQL"
      ],
      "metadata": {
        "id": "8MBuozzoyhje"
      }
    },
    {
      "cell_type": "code",
      "source": [
        "# 3) Liste os nomes de todos os produtos que custam mais de 100 reais,\n",
        "# ordenando-os primeiramente pelo preço e em segundo lugar pelo nome.\n",
        "# Use alias para mostrar o nome da coluna nome como \"Produto\" e da coluna preco como\n",
        "# \"Valor\". A resposta da consulta não deve mostrar outras colunas de dados.\n",
        "try:\n",
        "    cursor = conexao.cursor()\n",
        "    sql_query = \"\"\"\n",
        "    SELECT nome AS Produto, preco AS Valor\n",
        "    FROM produtos_ex2\n",
        "    WHERE preco > 100\n",
        "    ORDER BY preco DESC, nome ASC\n",
        "    \"\"\"\n",
        "    cursor.execute(sql_query)\n",
        "    df_consulta100 = pd.read_sql_query(sql_query, conexao)\n",
        "    print(df_consulta100.to_markdown(index = False))\n",
        "\n",
        "except Exception as e:\n",
        "    print(f\"Erro ao executar a consulta: {e}\")"
      ],
      "metadata": {
        "colab": {
          "base_uri": "https://localhost:8080/"
        },
        "id": "ir7vwkdQyjqS",
        "outputId": "f2bd2c37-c84f-4495-de3b-62a3f711db37"
      },
      "execution_count": null,
      "outputs": [
        {
          "output_type": "stream",
          "name": "stdout",
          "text": [
            "| Produto           |   Valor |\n",
            "|:------------------|--------:|\n",
            "| Sofá              |  985.9  |\n",
            "| Carne             |  984.28 |\n",
            "| Flauta            |  983.34 |\n",
            "| Violino           |  980.48 |\n",
            "| História          |  973.23 |\n",
            "| Estante           |  971.03 |\n",
            "| Arroz             |  948.09 |\n",
            "| Laranja           |  890.99 |\n",
            "| Bateria           |  846.8  |\n",
            "| Bola              |  821.46 |\n",
            "| Água              |  798.91 |\n",
            "| Pelúcia           |  771.37 |\n",
            "| Maçã              |  739.61 |\n",
            "| Tênis             |  695.62 |\n",
            "| Tênis de Corrida  |  688.35 |\n",
            "| Jogo de Tabuleiro |  680.4  |\n",
            "| Boneca            |  659.99 |\n",
            "| Cerveja           |  591.06 |\n",
            "| Calça             |  564.07 |\n",
            "| Macarrão          |  551.96 |\n",
            "| Mesa              |  532.94 |\n",
            "| Notebook          |  510.79 |\n",
            "| Banana            |  505.28 |\n",
            "| Raquete           |  441.81 |\n",
            "| Piano             |  422.43 |\n",
            "| Cadeira           |  395.17 |\n",
            "| Matemática        |  385.94 |\n",
            "| Vestido           |  351.44 |\n",
            "| Feijão            |  333.89 |\n",
            "| Capacete          |  331.64 |\n",
            "| Guitarra          |  331    |\n",
            "| Camiseta          |  329.58 |\n",
            "| Smartwatch        |  323.17 |\n",
            "| Tablet            |  275.9  |\n",
            "| Ciências          |  270.84 |\n",
            "| Suco              |  265.61 |\n",
            "| Manga             |  258.41 |\n",
            "| Celular           |  231.16 |\n",
            "| Peixe             |  196.38 |\n",
            "| Televisão         |  188.51 |\n",
            "| Chapéu            |  184.35 |\n",
            "| Vinho             |  182.27 |\n",
            "| Abacaxi           |  153.58 |\n",
            "| Bicicleta         |  145.65 |\n",
            "| Quebra-cabeça     |  135.81 |\n",
            "| Carrinho          |  107.81 |\n"
          ]
        }
      ]
    },
    {
      "cell_type": "code",
      "source": [
        "# 4) Liste todos os ids e preços de produtos cujo preço seja maior do\n",
        "# que a média de todos os preços encontrados na tabela \"produtos\".\n",
        "\n",
        "media_preco = \"\"\"SELECT AVG(preco) AS media_preco FROM produtos_ex2\"\"\"\n",
        "df_media = pd.read_sql_query(media_preco, conexao)\n",
        "print(df_media.to_markdown(index = False))"
      ],
      "metadata": {
        "colab": {
          "base_uri": "https://localhost:8080/"
        },
        "id": "XTdOAsTg2Xs4",
        "outputId": "8fd2ed3b-2ac5-40ec-b907-b5a02d141cc1"
      },
      "execution_count": null,
      "outputs": [
        {
          "output_type": "stream",
          "name": "stdout",
          "text": [
            "|   media_preco |\n",
            "|--------------:|\n",
            "|       464.356 |\n"
          ]
        }
      ]
    },
    {
      "cell_type": "code",
      "source": [
        "try:\n",
        "    sql_query_maior_media = \"\"\"\n",
        "    SELECT id AS Ids, preco\n",
        "    FROM produtos_ex2\n",
        "    WHERE preco > (SELECT AVG(preco) FROM produtos_ex2)\n",
        "    ORDER BY preco DESC\n",
        "    \"\"\"\n",
        "    cursor.execute(sql_query_maior_media)\n",
        "    df_maior_media = pd.read_sql_query(sql_query_maior_media, conexao)\n",
        "    print(df_maior_media.to_markdown(index = False))\n",
        "\n",
        "except Exception as e:\n",
        "    print(f\"Erro ao executar a consulta: {e}\")"
      ],
      "metadata": {
        "colab": {
          "base_uri": "https://localhost:8080/"
        },
        "id": "ny02GP195NUg",
        "outputId": "90cfbe54-d5bf-4cb8-ad46-9e4173531789"
      },
      "execution_count": null,
      "outputs": [
        {
          "output_type": "stream",
          "name": "stdout",
          "text": [
            "|   Ids |   preco |\n",
            "|------:|--------:|\n",
            "|    31 |  985.9  |\n",
            "|    42 |  984.28 |\n",
            "|    53 |  983.34 |\n",
            "|    52 |  980.48 |\n",
            "|    21 |  973.23 |\n",
            "|    32 |  971.03 |\n",
            "|    39 |  948.09 |\n",
            "|     7 |  890.99 |\n",
            "|    50 |  846.8  |\n",
            "|    24 |  821.46 |\n",
            "|    34 |  798.91 |\n",
            "|    48 |  771.37 |\n",
            "|     6 |  739.61 |\n",
            "|    17 |  695.62 |\n",
            "|    26 |  688.35 |\n",
            "|    47 |  680.4  |\n",
            "|    44 |  659.99 |\n",
            "|    37 |  591.06 |\n",
            "|    15 |  564.07 |\n",
            "|    41 |  551.96 |\n",
            "|    29 |  532.94 |\n",
            "|    10 |  510.79 |\n",
            "|     5 |  505.28 |\n"
          ]
        }
      ]
    },
    {
      "cell_type": "code",
      "source": [
        "# 5) Para cada categoria, mostre o preço médio do conjunto de\n",
        "#produtos a ela associados. Caso uma categoria não tenha nenhum\n",
        "#produto a ela associada, esta categoria não deve aparecer no\n",
        "#resultado final. A consulta deve estar ordenada pelos nomes das\n",
        "#categorias.\n",
        "\n",
        "try:\n",
        "    sql_query_categoria = \"\"\"\n",
        "    SELECT c.nome AS categoria, AVG(p.preco) AS media_preco\n",
        "    FROM produtos_ex2 AS p\n",
        "    JOIN produtos_categorias_ex2 AS pc ON p.id = pc.produto_id\n",
        "    JOIN categorias_ex2 AS c ON pc.categoria_id = c.id\n",
        "    GROUP BY c.nome\n",
        "    \"\"\"\n",
        "    cursor.execute(sql_query_categoria)\n",
        "    df_categoria = pd.read_sql_query(sql_query_categoria, conexao)\n",
        "    print(df_categoria.to_markdown(index = False))\n",
        "\n",
        "except Exception as e:\n",
        "    print(f\"Erro ao executar a consulta: {e}\")\n"
      ],
      "metadata": {
        "colab": {
          "base_uri": "https://localhost:8080/"
        },
        "id": "_JeMaGd46fui",
        "outputId": "356f80f8-a7cd-47eb-b1e6-e133d38968e1"
      },
      "execution_count": null,
      "outputs": [
        {
          "output_type": "stream",
          "name": "stdout",
          "text": [
            "| categoria             |   media_preco |\n",
            "|:----------------------|--------------:|\n",
            "| Frutas                |       509.574 |\n",
            "| Eletrônicos           |       305.906 |\n",
            "| Vestuário             |       425.012 |\n",
            "| Livros                |       348.568 |\n",
            "| Esportes              |       485.782 |\n",
            "| Móveis                |       585.044 |\n",
            "| Bebidas               |       376.812 |\n",
            "| Alimentos             |       602.92  |\n",
            "| Brinquedos            |       471.076 |\n",
            "| Instrumentos Musicais |       712.81  |\n"
          ]
        }
      ]
    },
    {
      "cell_type": "markdown",
      "source": [
        "CRIANDO UM MENU PARA INSERIR NOVOS PRODUTOS"
      ],
      "metadata": {
        "id": "f4NbfNyvyaM_"
      }
    },
    {
      "cell_type": "code",
      "source": [
        "import warnings\n",
        "import pandas as pd\n",
        "from IPython.display import display, Markdown"
      ],
      "metadata": {
        "id": "A_LIxFRfM5BD"
      },
      "execution_count": null,
      "outputs": []
    },
    {
      "cell_type": "code",
      "source": [
        "warnings.filterwarnings('ignore')"
      ],
      "metadata": {
        "id": "rRgWjlDMM9AT"
      },
      "execution_count": null,
      "outputs": []
    },
    {
      "cell_type": "code",
      "source": [
        "# LEITURA DOS ARQUIVOS PARA ANALISE\n",
        "def exibir_markdown(texto_md):\n",
        "    display(Markdown(texto_md))"
      ],
      "metadata": {
        "id": "1CCepciSM_mT"
      },
      "execution_count": null,
      "outputs": []
    },
    {
      "cell_type": "code",
      "source": [
        "def inserir_categoria():\n",
        "  nova_categoria = input('Digite a nova categoria que deseja cadastrar: ')\n",
        "  sql_insert_categoria = \"INSERT INTO categorias_ex2 (nome) values ('{}')\".format(nova_categoria)\n",
        "  cursor.execute(sql_insert_categoria)\n",
        "  conexao.commit()\n",
        "  print('\\n ------------ CATEGORIA CADASTRADA COM SUCESSO ------------------------')\n",
        "\n",
        "# MOSTRAR A CATEGORIA ADICIONADA\n",
        "  df_categoria = pd.read_sql_query('select * from categorias_ex2', conexao)\n",
        "  print(df_categoria.to_markdown(index = False))"
      ],
      "metadata": {
        "id": "POPLFl9GNDML"
      },
      "execution_count": null,
      "outputs": []
    },
    {
      "cell_type": "code",
      "source": [
        "def inserir_produto():\n",
        "  novo_produto = input(\"Digite o produto para cadastrar: \")\n",
        "  preco = float(input(f\"Digite o preço do {novo_produto}: \"))\n",
        "\n",
        "  df_categoria = pd.read_sql_query('select * from categorias_ex2', conexao)\n",
        "  print(df_categoria.to_markdown(index=False))\n",
        "\n",
        "  id_categoria = int(input(f'O produto {novo_produto} pertence a qual categoria? 0 para nenhuma categoria'))\n",
        "\n",
        "\n",
        "  if id_categoria == 0:\n",
        "    sql_insert_produto = f\"insert into produtos_ex2 (nome, preco) values ('{novo_produto}',{preco})\"\n",
        "  else:\n",
        "    sql_insert_produto = f\"insert into produtos_ex2 ( nome, preco ) values ('{novo_produto}', {preco})\"\n",
        "    sql_associate_category = f\"insert into produtos_categorias_ex2 (produto_id, categoria_id) values (LAST_INSERT_ID(), {id_categoria})\"\n",
        "    cursor.execute(sql_associate_category)\n",
        "\n",
        "  cursor.execute(sql_insert_produto)\n",
        "  conexao.commit()\n",
        "\n",
        "# MOSTRAR A TABELA COMPLETA COM O PRODUTO ADICIONADO\n",
        "\n",
        "  print('\\n ------------ PRODUTO CADASTRADO COM SUCESSO! ------------------------')\n",
        "  df_produto = pd.read_sql_query(\"\"\"select p.id as id_produto, p.nome as produto, c.nome as categoria\n",
        "                                      from produtos p\n",
        "                                      left join produtos_categorias pc on p.id = pc.produto_id\n",
        "                                      left join categorias c on pc.categoria_id = c.id\"\"\", conexao)\n",
        "  print(df_produto.to_markdown(index=False))"
      ],
      "metadata": {
        "id": "5vCELB3kNObS"
      },
      "execution_count": null,
      "outputs": []
    },
    {
      "cell_type": "code",
      "source": [
        "# RENOMEAR NOME DO PRODUTO\n",
        "def alterar_produto():\n",
        "  df_produto = pd.read_sql_query('select * from produto', conexao)\n",
        "  exibir_markdown(df_produto.to_markdown(index=False))\n",
        "\n",
        "  id_produto = int(input('Digite o ID do produto a ser editada: '))\n",
        "  nome_novo_produto = input(\"Digite o novo valor do produto: \")\n",
        "  preco_novo_produto = float(input(\"Digite o novo valor do produto: \"))\n",
        "\n",
        "  sql_alterar_produto = f\"\"\"update produto\n",
        "                          set nome = '{nome_novo_produto}',\n",
        "                          set preco = {preco_novo_produto}\n",
        "                          where id = {id_produto} \"\"\"\n",
        "\n",
        "  cursor.execute(sql_alterar_produto)\n",
        "  conexao.commit()\n",
        "\n",
        "# EXIBIR O PRODUTO\n",
        "\n",
        "  print('\\n ------------ UPDATE EFETUADO COM SUCESSO! ------------------------')\n",
        "  df_produto = pd.read_sql_query('select * from produto', conexao)\n",
        "  print(df_produto.to_markdown(index=False))\n",
        "\n"
      ],
      "metadata": {
        "id": "qwkxK5EIN-WQ"
      },
      "execution_count": null,
      "outputs": []
    },
    {
      "cell_type": "code",
      "source": [
        "# RENOMEAR CATEGORIA\n",
        "def alterar_categoria():\n",
        "  df_categoria = pd.read_sql_query('select * from categorias_ex2', conexao)\n",
        "  exibir_markdown(df_categoria.to_markdown(index=False))\n",
        "\n",
        "  id_categoria_update = int(input(\"Digite o ID da categoria para modificar: \"))\n",
        "  nome_novo_categoria = input(\"Digite o novo nome da categoria: \")\n",
        "  sql_alterar_categoria = f\"\"\"update categorias_ex2\n",
        "                          set nome = '{nome_novo_categoria}'\n",
        "                          where id = {categoria_id} \"\"\"\n",
        "  cursor.execute(sql_alterar_categoria)\n",
        "  conexao.commit()\n",
        "\n",
        "  print(f\"CATEGORIA ATUALIZADA COM SUCESSO.\")\n",
        "\n",
        "  df_categoria = pd.read_sql_query('select * from categoria', conexao)\n",
        "  print(df_categoria.to_markdown(index=False))"
      ],
      "metadata": {
        "id": "pD3drtIiScpi"
      },
      "execution_count": null,
      "outputs": []
    },
    {
      "cell_type": "code",
      "source": [
        "cursor = conexao.cursor()\n",
        "while True:\n",
        "  opcao_menu = input(\"\"\"\n",
        "  selecione a opção desejada:\n",
        "  1- cadastrar categoria\n",
        "  2- cadastrar produto\n",
        "  3- alterar categoria\n",
        "  4- alterar produto\n",
        "  5- sair\n",
        "  \"\"\")\n",
        "\n",
        "  if opcao_menu == '1':\n",
        "    print('cadastrar categoria')\n",
        "    inserir_categoria()\n",
        "  elif opcao_menu == '2':\n",
        "    print('cadastrar produto')\n",
        "    inserir_produto()\n",
        "  elif opcao_menu == '3':\n",
        "    print('alterar categoria')\n",
        "    alterar_categoria()\n",
        "  elif opcao_menu == '4':\n",
        "    print('alterar produto')\n",
        "    alterar_produto()\n",
        "  elif opcao_menu == '5':\n",
        "    print('Até Mais')\n",
        "    cursor.close()\n",
        "    break"
      ],
      "metadata": {
        "id": "6fjhYXSAOBLx"
      },
      "execution_count": null,
      "outputs": []
    }
  ]
}
